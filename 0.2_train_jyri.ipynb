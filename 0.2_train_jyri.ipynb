{
 "cells": [
  {
   "cell_type": "code",
   "execution_count": 1,
   "metadata": {},
   "outputs": [],
   "source": [
    "from transformer.Trainer import Trainer"
   ]
  },
  {
   "cell_type": "code",
   "execution_count": 2,
   "metadata": {},
   "outputs": [],
   "source": [
    "src_train_data_path='data/jyri/train/question.txt'\n",
    "trg_train_data_path='data/jyri/train/answer.txt'\n",
    "\n",
    "src_valid_data_path='data/jyri/valid/question.txt'\n",
    "trg_valid_data_path='data/jyri/valid/answer.txt'\n",
    "src_lang='en'\n",
    "trg_lang='en'\n",
    "no_cuda=True\n",
    "SGDR=False\n",
    "epochs=2\n",
    "d_model=512\n",
    "n_layers=6\n",
    "heads=8\n",
    "dropout=0.1\n",
    "batchsize=100\n",
    "printevery=1\n",
    "lr=0.0001\n",
    "load_weights=None\n",
    "model_save_dir='models/jyri_bot_v1'\n",
    "create_valset=False\n",
    "max_strlen=80\n",
    "checkpoint=1\n",
    "device='cuda'\n",
    "\n",
    "#torch.manual_seed(1)\n",
    "#torch.cuda.manual_seed(1)\n",
    "#random.seed(12)"
   ]
  },
  {
   "cell_type": "markdown",
   "metadata": {},
   "source": [
    "## Trainer"
   ]
  },
  {
   "cell_type": "code",
   "execution_count": 3,
   "metadata": {},
   "outputs": [
    {
     "name": "stdout",
     "output_type": "stream",
     "text": [
      "loading spacy tokenizers...\n",
      "creating dataset and iterator... \n"
     ]
    }
   ],
   "source": [
    "trainer=Trainer.create_from_txt(src_train_data_path, trg_train_data_path, src_valid_data_path, trg_valid_data_path,\n",
    "                                src_lang, trg_lang, max_strlen, batchsize, load_weights,\n",
    "                                checkpoint, device)"
   ]
  },
  {
   "cell_type": "markdown",
   "metadata": {},
   "source": [
    "## Init model"
   ]
  },
  {
   "cell_type": "code",
   "execution_count": 4,
   "metadata": {},
   "outputs": [],
   "source": [
    "trainer.init_model(d_model, lr, heads, dropout, n_layers, load_weights, SGDR, device)"
   ]
  },
  {
   "cell_type": "markdown",
   "metadata": {},
   "source": [
    "## First prediction - bad"
   ]
  },
  {
   "cell_type": "code",
   "execution_count": 5,
   "metadata": {},
   "outputs": [
    {
     "name": "stdout",
     "output_type": "stream",
     "text": [
      "kirjas vähideklaratsiooniga seisukohtadele seisukohtadele seisukohtadele seisukohtadele seisukohtadele seisukohtadele seisukohtadele seisukohtadele seisukohtadele seisukohtadele seisukohtadele seisukohtadele seisukohtadele seisukohtadele seisukohtadele seisukohtadele seisukohtadele seisukohtadele seisukohtadele seisukohtadele seisukohtadele seisukohtadele seisukohtadele seisukohtadele seisukohtadele seisukohtadele seisukohtadele seisukohtadele seisukohtadele seisukohtadele seisukohtadele seisukohtadele seisukohtadele seisukohtadele seisukohtadele seisukohtadele seisukohtadele seisukohtadele seisukohtadele seisukohtadele seisukohtadele seisukohtadele seisukohtadele seisukohtadele seisukohtadele seisukohtadele seisukohtadele seisukohtadele seisukohtadele seisukohtadele seisukohtadele seisukohtadele seisukohtadele seisukohtadele seisukohtadele seisukohtadele seisukohtadele seisukohtadele seisukohtadele seisukohtadele seisukohtadele seisukohtadele seisukohtadele seisukohtadele seisukohtadele seisukohtadele seisukohtadele seisukohtadele seisukohtadele seisukohtadele seisukohtadele seisukohtadele seisukohtadele seisukohtadele seisukohtadele seisukohtadele\n"
     ]
    }
   ],
   "source": [
    "print(trainer.predict('miks sa selline oled?'))"
   ]
  },
  {
   "cell_type": "markdown",
   "metadata": {},
   "source": [
    "## Train"
   ]
  },
  {
   "cell_type": "code",
   "execution_count": 6,
   "metadata": {},
   "outputs": [
    {
     "name": "stdout",
     "output_type": "stream",
     "text": [
      "model weights will be saved every 1 minutes and at end of epoch to directory weights/\n",
      "training model...\n",
      "0m: epoch 1 [####################]  100%  loss = 6.933\n",
      "epoch 1 complete, loss = 6.933, loss valid = 6.042\n",
      "1m: epoch 2 [####################]  100%  loss = 6.350\n",
      "epoch 2 complete, loss = 6.350, loss valid = 5.622\n",
      "1m: epoch 3 [####################]  100%  loss = 6.051\n",
      "epoch 3 complete, loss = 6.051, loss valid = 5.239\n",
      "2m: epoch 4 [####################]  100%  loss = 5.839\n",
      "epoch 4 complete, loss = 5.839, loss valid = 5.078\n",
      "2m: epoch 5 [####################]  100%  loss = 5.656\n",
      "epoch 5 complete, loss = 5.656, loss valid = 4.958\n",
      "3m: epoch 6 [####################]  100%  loss = 5.500\n",
      "epoch 6 complete, loss = 5.500, loss valid = 4.722\n",
      "3m: epoch 7 [####################]  100%  loss = 5.341\n",
      "epoch 7 complete, loss = 5.341, loss valid = 4.541\n",
      "4m: epoch 8 [####################]  100%  loss = 5.191\n",
      "epoch 8 complete, loss = 5.191, loss valid = 4.396\n",
      "5m: epoch 9 [####################]  100%  loss = 5.039\n",
      "epoch 9 complete, loss = 5.039, loss valid = 4.208\n",
      "5m: epoch 10 [####################]  100%  loss = 4.899\n",
      "epoch 10 complete, loss = 4.899, loss valid = 4.050\n",
      "6m: epoch 11 [####################]  100%  loss = 4.753\n",
      "epoch 11 complete, loss = 4.753, loss valid = 3.891\n",
      "6m: epoch 12 [####################]  100%  loss = 4.599\n",
      "epoch 12 complete, loss = 4.599, loss valid = 3.659\n",
      "7m: epoch 13 [####################]  100%  loss = 4.440\n",
      "epoch 13 complete, loss = 4.440, loss valid = 3.638\n",
      "7m: epoch 14 [####################]  100%  loss = 4.289\n",
      "epoch 14 complete, loss = 4.289, loss valid = 3.462\n",
      "8m: epoch 15 [####################]  100%  loss = 4.127\n",
      "epoch 15 complete, loss = 4.127, loss valid = 3.191\n",
      "9m: epoch 16 [####################]  100%  loss = 3.955\n",
      "epoch 16 complete, loss = 3.955, loss valid = 3.122\n",
      "9m: epoch 17 [####################]  100%  loss = 3.787\n",
      "epoch 17 complete, loss = 3.787, loss valid = 2.906\n",
      "10m: epoch 18 [####################]  100%  loss = 3.612\n",
      "epoch 18 complete, loss = 3.612, loss valid = 2.781\n",
      "10m: epoch 19 [####################]  100%  loss = 3.433\n",
      "epoch 19 complete, loss = 3.433, loss valid = 2.620\n",
      "11m: epoch 20 [####################]  100%  loss = 3.264\n",
      "epoch 20 complete, loss = 3.264, loss valid = 2.293\n",
      "11m: epoch 21 [####################]  100%  loss = 3.084\n",
      "epoch 21 complete, loss = 3.084, loss valid = 2.193\n",
      "12m: epoch 22 [####################]  100%  loss = 2.909\n",
      "epoch 22 complete, loss = 2.909, loss valid = 1.964\n",
      "13m: epoch 23 [####################]  100%  loss = 2.735\n",
      "epoch 23 complete, loss = 2.735, loss valid = 1.819\n",
      "13m: epoch 24 [####################]  100%  loss = 2.565\n",
      "epoch 24 complete, loss = 2.565, loss valid = 1.691\n",
      "14m: epoch 25 [####################]  100%  loss = 2.399\n",
      "epoch 25 complete, loss = 2.399, loss valid = 1.533\n",
      "14m: epoch 26 [####################]  100%  loss = 2.245\n",
      "epoch 26 complete, loss = 2.245, loss valid = 1.382\n",
      "15m: epoch 27 [####################]  100%  loss = 2.089\n",
      "epoch 27 complete, loss = 2.089, loss valid = 1.272\n",
      "16m: epoch 28 [####################]  100%  loss = 1.945\n",
      "epoch 28 complete, loss = 1.945, loss valid = 1.170\n",
      "16m: epoch 29 [####################]  100%  loss = 1.814\n",
      "epoch 29 complete, loss = 1.814, loss valid = 1.097\n",
      "17m: epoch 30 [####################]  100%  loss = 1.702\n",
      "epoch 30 complete, loss = 1.702, loss valid = 1.042\n",
      "17m: epoch 31 [####################]  100%  loss = 1.590\n",
      "epoch 31 complete, loss = 1.590, loss valid = 0.982\n",
      "18m: epoch 32 [####################]  100%  loss = 1.494\n",
      "epoch 32 complete, loss = 1.494, loss valid = 0.965\n",
      "18m: epoch 33 [####################]  100%  loss = 1.413\n",
      "epoch 33 complete, loss = 1.413, loss valid = 0.821\n",
      "19m: epoch 34 [####################]  100%  loss = 1.330\n",
      "epoch 34 complete, loss = 1.330, loss valid = 0.775\n",
      "20m: epoch 35 [####################]  100%  loss = 1.265\n",
      "epoch 35 complete, loss = 1.265, loss valid = 0.740\n",
      "20m: epoch 36 [####################]  100%  loss = 1.209\n",
      "epoch 36 complete, loss = 1.209, loss valid = 0.713\n",
      "21m: epoch 37 [####################]  100%  loss = 1.143\n",
      "epoch 37 complete, loss = 1.143, loss valid = 0.681\n",
      "21m: epoch 38 [####################]  100%  loss = 1.091\n",
      "epoch 38 complete, loss = 1.091, loss valid = 0.667\n",
      "22m: epoch 39 [####################]  100%  loss = 1.033\n",
      "epoch 39 complete, loss = 1.033, loss valid = 0.608\n",
      "23m: epoch 40 [####################]  100%  loss = 0.986\n",
      "epoch 40 complete, loss = 0.986, loss valid = 0.593\n",
      "23m: epoch 41 [####################]  100%  loss = 0.944\n",
      "epoch 41 complete, loss = 0.944, loss valid = 0.554\n",
      "24m: epoch 42 [####################]  100%  loss = 0.895\n",
      "epoch 42 complete, loss = 0.895, loss valid = 0.516\n",
      "24m: epoch 43 [####################]  100%  loss = 0.854\n",
      "epoch 43 complete, loss = 0.854, loss valid = 0.661\n",
      "25m: epoch 44 [####################]  100%  loss = 0.813\n",
      "epoch 44 complete, loss = 0.813, loss valid = 0.440\n",
      "26m: epoch 45 [####################]  100%  loss = 0.771\n",
      "epoch 45 complete, loss = 0.771, loss valid = 0.440\n",
      "26m: epoch 46 [####################]  100%  loss = 0.737\n",
      "epoch 46 complete, loss = 0.737, loss valid = 0.388\n",
      "27m: epoch 47 [####################]  100%  loss = 0.702\n",
      "epoch 47 complete, loss = 0.702, loss valid = 0.415\n",
      "27m: epoch 48 [####################]  100%  loss = 0.667\n",
      "epoch 48 complete, loss = 0.667, loss valid = 0.375\n",
      "28m: epoch 49 [####################]  100%  loss = 0.641\n",
      "epoch 49 complete, loss = 0.641, loss valid = 0.393\n",
      "28m: epoch 50 [####################]  100%  loss = 0.606\n",
      "epoch 50 complete, loss = 0.606, loss valid = 0.330\n",
      "29m: epoch 51 [####################]  100%  loss = 0.580\n",
      "epoch 51 complete, loss = 0.580, loss valid = 0.327\n",
      "30m: epoch 52 [####################]  100%  loss = 0.557\n",
      "epoch 52 complete, loss = 0.557, loss valid = 0.290\n",
      "30m: epoch 53 [####################]  100%  loss = 0.530\n",
      "epoch 53 complete, loss = 0.530, loss valid = 0.297\n",
      "31m: epoch 54 [####################]  100%  loss = 0.506\n",
      "epoch 54 complete, loss = 0.506, loss valid = 0.274\n",
      "31m: epoch 55 [####################]  100%  loss = 0.489\n",
      "epoch 55 complete, loss = 0.489, loss valid = 0.256\n",
      "32m: epoch 56 [####################]  100%  loss = 0.469\n",
      "epoch 56 complete, loss = 0.469, loss valid = 0.226\n",
      "33m: epoch 57 [####################]  100%  loss = 0.452\n",
      "epoch 57 complete, loss = 0.452, loss valid = 0.257\n",
      "33m: epoch 58 [####################]  100%  loss = 0.435\n",
      "epoch 58 complete, loss = 0.435, loss valid = 0.268\n",
      "34m: epoch 59 [####################]  100%  loss = 0.420\n",
      "epoch 59 complete, loss = 0.420, loss valid = 0.195\n",
      "34m: epoch 60 [####################]  100%  loss = 0.408\n",
      "epoch 60 complete, loss = 0.408, loss valid = 0.193\n",
      "35m: epoch 61 [####################]  100%  loss = 0.393\n",
      "epoch 61 complete, loss = 0.393, loss valid = 0.158\n",
      "36m: epoch 62 [####################]  100%  loss = 0.385\n",
      "epoch 62 complete, loss = 0.385, loss valid = 0.165\n",
      "36m: epoch 63 [####################]  100%  loss = 0.368\n",
      "epoch 63 complete, loss = 0.368, loss valid = 0.164\n",
      "37m: epoch 64 [####################]  100%  loss = 0.361\n",
      "epoch 64 complete, loss = 0.361, loss valid = 0.152\n",
      "37m: epoch 65 [####################]  100%  loss = 0.345\n",
      "epoch 65 complete, loss = 0.345, loss valid = 0.184\n",
      "38m: epoch 66 [####################]  100%  loss = 0.334\n",
      "epoch 66 complete, loss = 0.334, loss valid = 0.134\n",
      "38m: epoch 67 [####################]  100%  loss = 0.322\n",
      "epoch 67 complete, loss = 0.322, loss valid = 0.160\n",
      "39m: epoch 68 [####################]  100%  loss = 0.319\n",
      "epoch 68 complete, loss = 0.319, loss valid = 0.121\n",
      "40m: epoch 69 [####################]  100%  loss = 0.309\n",
      "epoch 69 complete, loss = 0.309, loss valid = 0.131\n",
      "40m: epoch 70 [####################]  100%  loss = 0.300\n",
      "epoch 70 complete, loss = 0.300, loss valid = 0.140\n",
      "41m: epoch 71 [####################]  100%  loss = 0.294\n",
      "epoch 71 complete, loss = 0.294, loss valid = 0.144\n",
      "41m: epoch 72 [####################]  100%  loss = 0.285\n",
      "epoch 72 complete, loss = 0.285, loss valid = 0.133\n",
      "42m: epoch 73 [####################]  100%  loss = 0.281\n",
      "epoch 73 complete, loss = 0.281, loss valid = 0.094\n",
      "43m: epoch 74 [####################]  100%  loss = 0.272\n",
      "epoch 74 complete, loss = 0.272, loss valid = 0.106\n",
      "43m: epoch 75 [####################]  100%  loss = 0.265\n",
      "epoch 75 complete, loss = 0.265, loss valid = 0.107\n",
      "44m: epoch 76 [####################]  100%  loss = 0.260\n",
      "epoch 76 complete, loss = 0.260, loss valid = 0.120\n",
      "44m: epoch 77 [####################]  100%  loss = 0.251\n",
      "epoch 77 complete, loss = 0.251, loss valid = 0.127\n",
      "45m: epoch 78 [####################]  100%  loss = 0.250\n",
      "epoch 78 complete, loss = 0.250, loss valid = 0.124\n",
      "46m: epoch 79 [####################]  100%  loss = 0.240\n",
      "epoch 79 complete, loss = 0.240, loss valid = 0.097\n",
      "46m: epoch 80 [####################]  100%  loss = 0.236\n",
      "epoch 80 complete, loss = 0.236, loss valid = 0.099\n",
      "47m: epoch 81 [####################]  100%  loss = 0.234\n",
      "epoch 81 complete, loss = 0.234, loss valid = 0.091\n",
      "47m: epoch 82 [####################]  100%  loss = 0.228\n",
      "epoch 82 complete, loss = 0.228, loss valid = 0.189\n",
      "48m: epoch 83 [####################]  100%  loss = 0.230\n",
      "epoch 83 complete, loss = 0.230, loss valid = 0.091\n",
      "49m: epoch 84 [####################]  100%  loss = 0.217\n",
      "epoch 84 complete, loss = 0.217, loss valid = 0.092\n",
      "49m: epoch 85 [####################]  100%  loss = 0.216\n",
      "epoch 85 complete, loss = 0.216, loss valid = 0.091\n",
      "50m: epoch 86 [####################]  100%  loss = 0.211\n",
      "epoch 86 complete, loss = 0.211, loss valid = 0.111\n",
      "50m: epoch 87 [####################]  100%  loss = 0.204\n",
      "epoch 87 complete, loss = 0.204, loss valid = 0.079\n",
      "51m: epoch 88 [####################]  100%  loss = 0.199\n",
      "epoch 88 complete, loss = 0.199, loss valid = 0.074\n",
      "52m: epoch 89 [####################]  100%  loss = 0.200\n",
      "epoch 89 complete, loss = 0.200, loss valid = 0.078\n",
      "52m: epoch 90 [####################]  100%  loss = 0.196\n",
      "epoch 90 complete, loss = 0.196, loss valid = 0.064\n",
      "53m: epoch 91 [####################]  100%  loss = 0.193\n",
      "epoch 91 complete, loss = 0.193, loss valid = 0.073\n",
      "53m: epoch 92 [####################]  100%  loss = 0.190\n",
      "epoch 92 complete, loss = 0.190, loss valid = 0.080\n",
      "54m: epoch 93 [####################]  100%  loss = 0.182\n",
      "epoch 93 complete, loss = 0.182, loss valid = 0.081\n",
      "54m: epoch 94 [####################]  100%  loss = 0.182\n",
      "epoch 94 complete, loss = 0.182, loss valid = 0.079\n",
      "55m: epoch 95 [####################]  100%  loss = 0.182\n",
      "epoch 95 complete, loss = 0.182, loss valid = 0.074\n",
      "56m: epoch 96 [####################]  100%  loss = 0.179\n",
      "epoch 96 complete, loss = 0.179, loss valid = 0.087\n",
      "56m: epoch 97 [####################]  100%  loss = 0.176\n",
      "epoch 97 complete, loss = 0.176, loss valid = 0.061\n",
      "57m: epoch 98 [####################]  100%  loss = 0.169\n",
      "epoch 98 complete, loss = 0.169, loss valid = 0.071\n",
      "57m: epoch 99 [####################]  100%  loss = 0.171\n",
      "epoch 99 complete, loss = 0.171, loss valid = 0.049\n",
      "58m: epoch 100 [####################]  100%  loss = 0.165\n",
      "epoch 100 complete, loss = 0.165, loss valid = 0.065\n",
      "saving weights to models/jyri_bot_v1/...\n"
     ]
    }
   ],
   "source": [
    "trainer.train_model(100, 1, model_save_dir)"
   ]
  },
  {
   "cell_type": "markdown",
   "metadata": {},
   "source": [
    "## Predict"
   ]
  },
  {
   "cell_type": "code",
   "execution_count": 13,
   "metadata": {},
   "outputs": [
    {
     "ename": "AttributeError",
     "evalue": "'NoneType' object has no attribute 'eval'",
     "output_type": "error",
     "traceback": [
      "\u001b[0;31m---------------------------------------------------------------------------\u001b[0m",
      "\u001b[0;31mAttributeError\u001b[0m                            Traceback (most recent call last)",
      "\u001b[0;32m<ipython-input-13-972381b06a55>\u001b[0m in \u001b[0;36m<module>\u001b[0;34m\u001b[0m\n\u001b[0;32m----> 1\u001b[0;31m \u001b[0mprint\u001b[0m\u001b[0;34m(\u001b[0m\u001b[0mtrainer\u001b[0m\u001b[0;34m.\u001b[0m\u001b[0mpredict\u001b[0m\u001b[0;34m(\u001b[0m\u001b[0;34m'mis meist saab?'\u001b[0m\u001b[0;34m)\u001b[0m\u001b[0;34m)\u001b[0m\u001b[0;34m\u001b[0m\u001b[0m\n\u001b[0m\u001b[1;32m      2\u001b[0m \u001b[0mprint\u001b[0m\u001b[0;34m(\u001b[0m\u001b[0mtrainer\u001b[0m\u001b[0;34m.\u001b[0m\u001b[0mpredict\u001b[0m\u001b[0;34m(\u001b[0m\u001b[0;34m'kas peaminister on raske olla?'\u001b[0m\u001b[0;34m)\u001b[0m\u001b[0;34m)\u001b[0m\u001b[0;34m\u001b[0m\u001b[0m\n\u001b[1;32m      3\u001b[0m \u001b[0mprint\u001b[0m\u001b[0;34m(\u001b[0m\u001b[0mtrainer\u001b[0m\u001b[0;34m.\u001b[0m\u001b[0mpredict\u001b[0m\u001b[0;34m(\u001b[0m\u001b[0;34m'miks sa selline oled?'\u001b[0m\u001b[0;34m)\u001b[0m\u001b[0;34m)\u001b[0m\u001b[0;34m\u001b[0m\u001b[0m\n",
      "\u001b[0;32m/experiments/risto/Transformer/transformer_/transformer/Trainer.py\u001b[0m in \u001b[0;36mpredict\u001b[0;34m(self, sentence, fix_punctuation)\u001b[0m\n\u001b[1;32m    194\u001b[0m \u001b[0;34m\u001b[0m\u001b[0m\n\u001b[1;32m    195\u001b[0m     \u001b[0;32mdef\u001b[0m \u001b[0mpredict\u001b[0m\u001b[0;34m(\u001b[0m\u001b[0mself\u001b[0m\u001b[0;34m,\u001b[0m \u001b[0msentence\u001b[0m\u001b[0;34m,\u001b[0m \u001b[0mfix_punctuation\u001b[0m\u001b[0;34m=\u001b[0m\u001b[0;32mTrue\u001b[0m\u001b[0;34m)\u001b[0m\u001b[0;34m:\u001b[0m\u001b[0;34m\u001b[0m\u001b[0m\n\u001b[0;32m--> 196\u001b[0;31m         \u001b[0mself\u001b[0m\u001b[0;34m.\u001b[0m\u001b[0mmodel\u001b[0m\u001b[0;34m.\u001b[0m\u001b[0meval\u001b[0m\u001b[0;34m(\u001b[0m\u001b[0;34m)\u001b[0m\u001b[0;34m\u001b[0m\u001b[0m\n\u001b[0m\u001b[1;32m    197\u001b[0m         \u001b[0mindexed\u001b[0m \u001b[0;34m=\u001b[0m \u001b[0;34m[\u001b[0m\u001b[0;34m]\u001b[0m\u001b[0;34m\u001b[0m\u001b[0m\n\u001b[1;32m    198\u001b[0m         \u001b[0msentence\u001b[0m \u001b[0;34m=\u001b[0m \u001b[0mself\u001b[0m\u001b[0;34m.\u001b[0m\u001b[0mSRC\u001b[0m\u001b[0;34m.\u001b[0m\u001b[0mpreprocess\u001b[0m\u001b[0;34m(\u001b[0m\u001b[0msentence\u001b[0m\u001b[0;34m)\u001b[0m\u001b[0;34m\u001b[0m\u001b[0m\n",
      "\u001b[0;31mAttributeError\u001b[0m: 'NoneType' object has no attribute 'eval'"
     ]
    }
   ],
   "source": [
    "print(trainer.predict('mis meist saab?'))\n",
    "print(trainer.predict('kas peaminister on raske olla?'))\n",
    "print(trainer.predict('miks sa selline oled?'))"
   ]
  },
  {
   "cell_type": "markdown",
   "metadata": {},
   "source": [
    "## Save and predict"
   ]
  },
  {
   "cell_type": "code",
   "execution_count": 8,
   "metadata": {},
   "outputs": [
    {
     "name": "stdout",
     "output_type": "stream",
     "text": [
      "usun, et tulevad taaskord huvitavad debatid, et on erinevad kandidaadid ja erinevad visioonid ...\n"
     ]
    }
   ],
   "source": [
    "trainer.save_model()\n",
    "trainer2=Trainer.load_model('models/jyri_bot_v1')\n",
    "print(trainer2.predict('kas peaminister on raske olla?'))"
   ]
  },
  {
   "cell_type": "code",
   "execution_count": 14,
   "metadata": {},
   "outputs": [
    {
     "name": "stdout",
     "output_type": "stream",
     "text": [
      "sest see protokoll ei tööta, ütleb ratas. selle raames ei ole mingit koostööd toimunud, mingeid kontakte pole, see protokoll oma sisult ja vormilt pole kunagi tööle saanud.\n"
     ]
    }
   ],
   "source": [
    "print(trainer2.predict('miks sa selline oled?'))"
   ]
  },
  {
   "cell_type": "code",
   "execution_count": 10,
   "metadata": {},
   "outputs": [
    {
     "name": "stdout",
     "output_type": "stream",
     "text": [
      "tuleb samamoodi paluda ajatamist, aga ei tasu jagada laskmata karu nahka. ma arvan, et seal on palju põhjendamata nõudeid.\n"
     ]
    }
   ],
   "source": [
    "print(trainer2.predict('mis meist saab?'))"
   ]
  },
  {
   "cell_type": "code",
   "execution_count": 11,
   "metadata": {},
   "outputs": [
    {
     "name": "stdout",
     "output_type": "stream",
     "text": [
      "aitäh ma võtan iga päev selleks midagi ette. ja võtan ka järgneva kahe minuti jooksul ette, selleks et mitte eestit lahutada, meie inimesi lükata eri nurkadesse, nagu te soovite, vaid neid tõesti liita, nagu teie vähemalt lõpus oma retoorikas välja ütlesite –   ka see on suur asi\n"
     ]
    }
   ],
   "source": [
    "print(trainer2.predict('kuulilennutuul'))"
   ]
  },
  {
   "cell_type": "code",
   "execution_count": 12,
   "metadata": {},
   "outputs": [
    {
     "name": "stdout",
     "output_type": "stream",
     "text": [
      "aitäh ma võtan iga päev selleks midagi ette. ja võtan ka järgneva kahe minuti jooksul ette, selleks et mitte eestit lahutada, meie inimesi lükata eri nurkadesse, nagu te soovite, vaid neid tõesti liita, nagu teie vähemalt lõpus oma retoorikas välja ütlesite –   ka see on suur asi\n"
     ]
    }
   ],
   "source": [
    "print(trainer2.predict('deedfee'))"
   ]
  },
  {
   "cell_type": "code",
   "execution_count": null,
   "metadata": {},
   "outputs": [],
   "source": []
  }
 ],
 "metadata": {
  "kernelspec": {
   "display_name": "v36torch1.1.0",
   "language": "python",
   "name": "v36torch1.1.0"
  },
  "language_info": {
   "codemirror_mode": {
    "name": "ipython",
    "version": 3
   },
   "file_extension": ".py",
   "mimetype": "text/x-python",
   "name": "python",
   "nbconvert_exporter": "python",
   "pygments_lexer": "ipython3",
   "version": "3.6.6"
  }
 },
 "nbformat": 4,
 "nbformat_minor": 2
}
